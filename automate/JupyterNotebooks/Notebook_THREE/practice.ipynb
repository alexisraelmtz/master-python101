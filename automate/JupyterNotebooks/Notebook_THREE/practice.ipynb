{
 "metadata": {
  "language_info": {
   "codemirror_mode": {
    "name": "ipython",
    "version": 3
   },
   "file_extension": ".py",
   "mimetype": "text/x-python",
   "name": "python",
   "nbconvert_exporter": "python",
   "pygments_lexer": "ipython3",
   "version": "3.8.8"
  },
  "orig_nbformat": 4,
  "kernelspec": {
   "name": "python3",
   "display_name": "Python 3.8.8 64-bit ('base': conda)"
  },
  "interpreter": {
   "hash": "e904e05964acde086138917331487fef805741fda0b19bbfbefa7e4f6690ef3e"
  }
 },
 "nbformat": 4,
 "nbformat_minor": 2,
 "cells": [
  {
   "cell_type": "code",
   "execution_count": 21,
   "metadata": {},
   "outputs": [
    {
     "output_type": "stream",
     "name": "stdout",
     "text": [
      "array('b', [1, 2, 3])\narray('b', [1, 2, 3, 44])\n<class 'array.array'>\n"
     ]
    }
   ],
   "source": [
    "import array as arr\n",
    "\n",
    "\n",
    "array_1 = arr.array(\"b\", [1, 2, 3])\n",
    "print(array_1)\n",
    "array_1.append(44)\n",
    "print(array_1)\n",
    "print(type(array_1))"
   ]
  },
  {
   "cell_type": "code",
   "execution_count": 20,
   "metadata": {},
   "outputs": [
    {
     "output_type": "stream",
     "name": "stdout",
     "text": [
      "[3 6 5 8 7 9]\n[ 1.5  3.   2.5  4.   3.5  4.5 22.  44. ]\n<class 'numpy.ndarray'>\n"
     ]
    }
   ],
   "source": [
    "import numpy as np\n",
    "\n",
    "array_2 = np.array([3, 6, 5, 8, 7, 9])\n",
    "print(array_2)\n",
    "array_2 = np.append(array_2, [44,88])\n",
    "print(array_2 / 2)\n",
    "print(type(array_2))"
   ]
  },
  {
   "cell_type": "code",
   "execution_count": null,
   "metadata": {},
   "outputs": [],
   "source": []
  }
 ]
}