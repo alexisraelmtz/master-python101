{
 "metadata": {
  "language_info": {
   "codemirror_mode": {
    "name": "ipython",
    "version": 3
   },
   "file_extension": ".py",
   "mimetype": "text/x-python",
   "name": "python",
   "nbconvert_exporter": "python",
   "pygments_lexer": "ipython3",
   "version": "3.8.3-final"
  },
  "orig_nbformat": 2,
  "kernelspec": {
   "name": "python3",
   "display_name": "Python 3",
   "language": "python"
  }
 },
 "nbformat": 4,
 "nbformat_minor": 2,
 "cells": [
  {
   "cell_type": "code",
   "execution_count": 7,
   "metadata": {},
   "outputs": [
    {
     "output_type": "stream",
     "name": "stdout",
     "text": [
      "    age  gender      genre\n0    20       1     HipHop\n1    23       1     HipHop\n2    25       1     HipHop\n3    26       1       Jazz\n4    29       1       Jazz\n5    30       1       Jazz\n6    31       1  Classical\n7    33       1  Classical\n8    37       1  Classical\n9    20       0      Dance\n10   21       0      Dance\n11   25       0      Dance\n12   26       0   Acoustic\n13   27       0   Acoustic\n14   30       0   Acoustic\n15   31       0  Classical\n16   34       0  Classical\n17   35       0  Classical\n"
     ]
    }
   ],
   "source": [
    "import pandas as pd\n",
    "sheet = pd.read_csv(\"music.csv\")\n",
    "print(sheet)"
   ]
  },
  {
   "cell_type": "code",
   "execution_count": 8,
   "metadata": {},
   "outputs": [
    {
     "output_type": "stream",
     "name": "stdout",
     "text": [
      "Pandas\n> Music.csv: 'Describe method()'\n              age     gender\ncount  18.000000  18.000000\nmean   27.944444   0.500000\nstd     5.127460   0.514496\nmin    20.000000   0.000000\n25%    25.000000   0.000000\n50%    28.000000   0.500000\n75%    31.000000   1.000000\nmax    37.000000   1.000000\n\n> Music.csv: 'Values'\n[[20 1 'HipHop']\n [23 1 'HipHop']\n [25 1 'HipHop']\n [26 1 'Jazz']\n [29 1 'Jazz']\n [30 1 'Jazz']\n [31 1 'Classical']\n [33 1 'Classical']\n [37 1 'Classical']\n [20 0 'Dance']\n [21 0 'Dance']\n [25 0 'Dance']\n [26 0 'Acoustic']\n [27 0 'Acoustic']\n [30 0 'Acoustic']\n [31 0 'Classical']\n [34 0 'Classical']\n [35 0 'Classical']]\n"
     ]
    }
   ],
   "source": [
    "print(f\"Pandas\\n> Music.csv: 'Describe method()'\\n {sheet.describe()}\\n\\n> Music.csv: 'Values'\\n{sheet.values}\")\n"
   ]
  },
  {
   "cell_type": "code",
   "execution_count": 9,
   "metadata": {},
   "outputs": [
    {
     "output_type": "stream",
     "name": "stdout",
     "text": [
      "HipHop should be 'HipHop', Jazz should be 'Jazz', and Classical should be 'Classical'\n"
     ]
    }
   ],
   "source": [
    "# import pandas as pd\n",
    "from sklearn.tree import DecisionTreeClassifier\n",
    "\n",
    "music_data = pd.read_csv(\"music.csv\")\n",
    "X = music_data.drop(columns=[\"genre\"])\n",
    "y = music_data[\"genre\"]\n",
    "\n",
    "model = DecisionTreeClassifier()\n",
    "model.fit(X, y)\n",
    "\n",
    "predictions = model.predict([[22,1],[27,1],[35,1]])\n",
    "print(f\"{predictions[0]} should be 'HipHop', {predictions[1]} should be 'Jazz', and {predictions[2]} should be 'Classical'\")"
   ]
  },
  {
   "cell_type": "code",
   "execution_count": 10,
   "metadata": {},
   "outputs": [
    {
     "output_type": "execute_result",
     "data": {
      "text/plain": [
       "1.0"
      ]
     },
     "metadata": {},
     "execution_count": 10
    }
   ],
   "source": [
    "from sklearn.model_selection import train_test_split\n",
    "from sklearn.metrics import accuracy_score\n",
    "\n",
    "X_train, X_test, y_train, y_test = train_test_split(X,y,test_size=0.10)\n",
    "\n",
    "model = DecisionTreeClassifier()\n",
    "model.fit(X_train, y_train)\n",
    "predictions = model.predict(X_test)\n",
    "\n",
    "score = accuracy_score(y_test, predictions)\n",
    "score"
   ]
  },
  {
   "cell_type": "code",
   "execution_count": 11,
   "metadata": {},
   "outputs": [],
   "source": [
    "import joblib\r\n",
    "\r\n",
    "# joblib.dump(model, \"music_bot.joblib\")"
   ]
  },
  {
   "cell_type": "code",
   "execution_count": 12,
   "metadata": {},
   "outputs": [],
   "source": [
    "from sklearn import tree\n",
    "\n",
    "# tree.export_graphviz(model, out_file=\"music_tree.dot\", \n",
    "#                             feature_names=[\"age\", \"gender\"], \n",
    "#                             class_names=sorted(y.unique()), \n",
    "#                             label=all, \n",
    "#                             rounded=True, \n",
    "#                             filled=True)"
   ]
  }
 ]
}