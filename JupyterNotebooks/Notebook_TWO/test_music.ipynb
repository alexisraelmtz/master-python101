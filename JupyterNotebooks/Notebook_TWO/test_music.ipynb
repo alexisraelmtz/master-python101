{
 "metadata": {
  "language_info": {
   "codemirror_mode": {
    "name": "ipython",
    "version": 3
   },
   "file_extension": ".py",
   "mimetype": "text/x-python",
   "name": "python",
   "nbconvert_exporter": "python",
   "pygments_lexer": "ipython3",
   "version": "3.8.3-final"
  },
  "orig_nbformat": 2,
  "kernelspec": {
   "name": "python3",
   "display_name": "Python 3",
   "language": "python"
  }
 },
 "nbformat": 4,
 "nbformat_minor": 2,
 "cells": [
  {
   "cell_type": "code",
   "execution_count": 104,
   "metadata": {},
   "outputs": [
    {
     "output_type": "stream",
     "name": "stdout",
     "text": [
      "HipHop should be 'HipHop', Jazz should be 'Jazz', and Classical should be 'Classical'\n"
     ]
    }
   ],
   "source": [
    "import joblib\n",
    "\n",
    "model = joblib.load(\"music_bot.joblib\")\n",
    "predictions = model.predict([[22,1],[27,1],[35,1]])\n",
    "print(f\"{predictions[0]} should be 'HipHop', {predictions[1]} should be 'Jazz', and {predictions[2]} should be 'Classical'\")"
   ]
  }
 ]
}