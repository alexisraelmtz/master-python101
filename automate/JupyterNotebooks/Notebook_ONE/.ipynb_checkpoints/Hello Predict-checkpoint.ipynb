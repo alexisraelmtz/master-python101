{
 "cells": [
  {
   "cell_type": "code",
   "execution_count": 31,
   "metadata": {},
   "outputs": [
    {
     "data": {
      "text/plain": [
       "array(['09-3-2-9-4', '34-9-5-8-0', '09-3-8-4-4', '12-7-2-2-9'],\n",
       "      dtype=object)"
      ]
     },
     "execution_count": 31,
     "metadata": {},
     "output_type": "execute_result"
    }
   ],
   "source": [
    "import pandas as pd\n",
    "from sklearn.tree import DecisionTreeClassifier\n",
    "\n",
    "lottery_data = pd.read_csv(\"edit_predict.csv\")\n",
    "X = lottery_data.drop(columns=[\"Winner\",\"Day\",\"Month\",\"Year\"])\n",
    "y = lottery_data[\"Winner\"]\n",
    "\n",
    "model = DecisionTreeClassifier()\n",
    "model.fit(X, y)\n",
    "# predictions = model.predict([[21,9,2013,194,2],[5,4,2014,196,1],[5,4,2014,196,2],[5,4,2014,196,3]])\n",
    "predictions = model.predict([[194,2],[196,1],[196,2],[196,3]])\n",
    "predictions"
   ]
  }
 ],
 "metadata": {
  "kernelspec": {
   "display_name": "Python 3",
   "language": "python",
   "name": "python3"
  },
  "language_info": {
   "codemirror_mode": {
    "name": "ipython",
    "version": 3
   },
   "file_extension": ".py",
   "mimetype": "text/x-python",
   "name": "python",
   "nbconvert_exporter": "python",
   "pygments_lexer": "ipython3",
   "version": "3.8.3"
  }
 },
 "nbformat": 4,
 "nbformat_minor": 4
}
